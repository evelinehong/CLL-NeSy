{
 "cells": [
  {
   "cell_type": "code",
   "execution_count": 1,
   "metadata": {},
   "outputs": [
    {
     "name": "stdout",
     "output_type": "stream",
     "text": [
      "+ 25112\n",
      "- 33997\n",
      "times 3251\n",
      "div 868\n",
      "! 1300\n",
      "0 6914\n",
      "1 26520\n",
      "2 26141\n",
      "3 10909\n",
      "4 7396\n",
      "5 3545\n",
      "6 3118\n",
      "7 2909\n",
      "8 3068\n",
      "9 3737\n"
     ]
    }
   ],
   "source": [
    "# split train and test set of math symbols\n",
    "import json\n",
    "import random\n",
    "import os\n",
    "\n",
    "random.seed(777)\n",
    "\n",
    "symbol_images_dir = 'symbol_images/'\n",
    "terminals = ['+', '-', 'times', 'div', '!'] + list(map(str, list(range(10))))\n",
    "sym_train_set = {}\n",
    "sym_val_set = {}\n",
    "sym_test_set = {}\n",
    "for tok in terminals:\n",
    "    imgs = os.listdir(symbol_images_dir + tok)\n",
    "    random.shuffle(imgs)\n",
    "    n_train = int(len(imgs) * 0.75)\n",
    "    n_val = int(len(imgs) * 0.05)\n",
    "    sym_train_set[tok] = sorted(imgs[:n_train])\n",
    "    sym_val_set[tok] = sorted(imgs[n_train:n_train+n_val])\n",
    "    sym_test_set[tok] = sorted(imgs[n_train+n_val:])\n",
    "    print(tok, len(imgs))\n",
    "json.dump(sym_train_set, open('sym_train.json', 'w'))\n",
    "json.dump(sym_val_set, open('sym_val.json', 'w'))\n",
    "json.dump(sym_test_set, open('sym_test.json', 'w'))"
   ]
  },
  {
   "cell_type": "code",
   "execution_count": 2,
   "metadata": {},
   "outputs": [],
   "source": [
    "import os\n",
    "import random\n",
    "from PIL import Image\n",
    "import json\n",
    "\n",
    "sym_train_set = json.load(open('sym_train.json'))\n",
    "sym_val_set = json.load(open('sym_val.json'))\n",
    "sym_test_set = json.load(open('sym_test.json'))\n",
    "\n",
    "def render_img(img_paths):\n",
    "    images = [Image.open(symbol_images_dir + x) for x in img_paths]\n",
    "    widths, heights = zip(*(i.size for i in images))\n",
    "\n",
    "    total_width = sum(widths)\n",
    "    max_height = max(heights)\n",
    "\n",
    "    new_im = Image.new('RGB', (total_width, max_height))\n",
    "\n",
    "    x_offset = 0\n",
    "    for im in images:\n",
    "        new_im.paste(im, (x_offset,0))\n",
    "        x_offset += im.size[0]\n",
    "    return new_im\n",
    "\n",
    "def generate_img_paths(tokens, sym_set=sym_train_set, render_img = False):\n",
    "    img_paths = []\n",
    "    for tok in tokens:\n",
    "        if tok == '*': tok = 'times'\n",
    "        if tok == '/': tok = 'div'\n",
    "        \n",
    "        img_name = random.choice(sym_set[tok])\n",
    "        img_paths.append(os.path.join(tok, img_name))   \n",
    "        \n",
    "    return img_paths"
   ]
  },
  {
   "cell_type": "code",
   "execution_count": 3,
   "metadata": {},
   "outputs": [
    {
     "name": "stdout",
     "output_type": "stream",
     "text": [
      "['0', '1', '2', '3', '4', '5', '6', '7', '8', '9']\n",
      "['+', '-', '*', '/', '!']\n"
     ]
    }
   ],
   "source": [
    "import math\n",
    "import random\n",
    "from tqdm import *\n",
    "import re\n",
    "\n",
    "random.seed(777)\n",
    "\n",
    "min_num = 0\n",
    "max_num = 10\n",
    "num_list = list(map(str, range(min_num, max_num)))\n",
    "nonzero_num_list = [x for x in num_list if x != '0']\n",
    "op_list = ['+', '-', '*', '/', '!']\n",
    "nonfactorial_op_list = ['+', '-', '*', '/']\n",
    "\n",
    "print(num_list)\n",
    "print(op_list)"
   ]
  },
  {
   "cell_type": "code",
   "execution_count": 4,
   "metadata": {},
   "outputs": [],
   "source": [
    "from domain import SYM2PROG\n",
    "import sys\n",
    "sys.path.insert(0, \"..\")\n",
    "from jointer import AST\n",
    "\n",
    "def eval_expr(expr, head):\n",
    "    ast = AST(expr, head, SYM2PROG)\n",
    "    return ast.res()"
   ]
  },
  {
   "cell_type": "code",
   "execution_count": 5,
   "metadata": {},
   "outputs": [
    {
     "name": "stdout",
     "output_type": "stream",
     "text": [
      "6/4+2! 3 [1, 3, 1, -1, 5, 3]\n"
     ]
    }
   ],
   "source": [
    "def generate_expression(n_op):\n",
    "    expr = [random.choice(num_list)]\n",
    "    for _ in range(n_op):\n",
    "        if expr[-1] == '!': ## disallow two consecutive ! to avoid overflow\n",
    "            selected_op = random.choice(nonfactorial_op_list)\n",
    "        else:\n",
    "            selected_op = random.choice(op_list)\n",
    "        if selected_op == '//' or selected_op == '/':\n",
    "            selected_num = random.choice(nonzero_num_list)\n",
    "        elif selected_op == '!':\n",
    "            selected_num = \"\"\n",
    "        else:\n",
    "            selected_num = random.choice(num_list)\n",
    "        expr.append(selected_op)\n",
    "        if selected_num != \"\":\n",
    "            expr.append(selected_num)\n",
    "    return expr\n",
    "\n",
    "def eval_expr_by_eval(expr):\n",
    "    expr_for_eval = []\n",
    "    for symbol in expr:\n",
    "        if symbol == '!':\n",
    "            expr_for_eval[-1] = 'math.factorial(' + expr_for_eval[-1] + ')'\n",
    "        elif symbol == '/':\n",
    "            expr_for_eval.append('//')\n",
    "        else:\n",
    "            expr_for_eval.append(symbol)\n",
    "#     try:\n",
    "#         res = eval(\"\".join(expr_for_eval))\n",
    "#     except OverflowError:\n",
    "#         res = None\n",
    "    res = eval(\"\".join(expr_for_eval))\n",
    "    return res\n",
    "\n",
    "def parse_expr(expr):\n",
    "    values = []\n",
    "    operators = []\n",
    "    priority = {'+': 0, '-': 0, '*': 1, '/': 1, '!': 2}\n",
    "    arity = {'+': 2, '-': 2, '*': 2, '/': 2, '!': 1}\n",
    "\n",
    "    head = [-1] * len(expr)\n",
    "    for (i,sym) in enumerate(expr):\n",
    "        if sym.isdigit():\n",
    "            values.append(i)\n",
    "        else:\n",
    "            while len(operators) > 0 and priority[expr[operators[-1]]] >= priority[sym]:\n",
    "                op = operators.pop()\n",
    "                for _ in range(arity[expr[op]]):\n",
    "                    head[values.pop()] = op\n",
    "                values.append(op)\n",
    "            operators.append(i)\n",
    "\n",
    "    while len(operators) > 0:\n",
    "        op = operators.pop()\n",
    "        for _ in range(arity[expr[op]]):\n",
    "            head[values.pop()] = op\n",
    "        values.append(op)\n",
    "\n",
    "    \n",
    "    root_op = values.pop()\n",
    "    head[root_op] = -1\n",
    "    assert len(values) == 0\n",
    "\n",
    "    return head\n",
    "\n",
    "expr = '6/4+2!'\n",
    "head = parse_expr(expr)\n",
    "res = eval_expr(expr, head)\n",
    "print(expr, res, head)"
   ]
  },
  {
   "cell_type": "code",
   "execution_count": 6,
   "metadata": {
    "scrolled": false
   },
   "outputs": [
    {
     "name": "stderr",
     "output_type": "stream",
     "text": [
      "100%|██████████| 1000/1000 [00:00<00:00, 111503.19it/s]\n",
      "100%|██████████| 2000/2000 [00:00<00:00, 55991.24it/s]\n",
      "100%|██████████| 4000/4000 [00:00<00:00, 37324.34it/s]\n",
      "100%|██████████| 8000/8000 [00:00<00:00, 28225.61it/s]\n",
      "100%|██████████| 100/100 [00:00<00:00, 103333.43it/s]\n",
      "100%|██████████| 200/200 [00:00<00:00, 56006.20it/s]\n",
      "100%|██████████| 400/400 [00:00<00:00, 36283.69it/s]\n",
      "100%|██████████| 800/800 [00:00<00:00, 29419.26it/s]\n",
      "100%|██████████| 10000/10000 [00:00<00:00, 84229.57it/s]\n",
      "  0%|          | 0/10000 [00:00<?, ?it/s]"
     ]
    },
    {
     "name": "stdout",
     "output_type": "stream",
     "text": [
      "15000\n",
      "1500\n"
     ]
    },
    {
     "name": "stderr",
     "output_type": "stream",
     "text": [
      "100%|██████████| 10000/10000 [00:00<00:00, 55444.42it/s]\n",
      "100%|██████████| 10000/10000 [00:00<00:00, 32381.55it/s]\n",
      "100%|██████████| 10000/10000 [00:00<00:00, 30368.20it/s]\n",
      "100%|██████████| 10000/10000 [00:00<00:00, 20741.69it/s]\n",
      "100%|██████████| 10000/10000 [00:00<00:00, 20554.86it/s]\n",
      "100%|██████████| 10000/10000 [00:00<00:00, 19110.83it/s]\n",
      "100%|██████████| 10000/10000 [00:00<00:00, 16211.97it/s]\n",
      "100%|██████████| 10000/10000 [00:00<00:00, 15715.54it/s]\n",
      "100%|██████████| 10000/10000 [00:00<00:00, 12102.31it/s]"
     ]
    },
    {
     "name": "stdout",
     "output_type": "stream",
     "text": [
      "100000\n"
     ]
    },
    {
     "name": "stderr",
     "output_type": "stream",
     "text": [
      "\n"
     ]
    }
   ],
   "source": [
    "# generate train set\n",
    "max_op = 3\n",
    "n_per_level = 1000\n",
    "sym_set = sym_train_set\n",
    "split = 'train'\n",
    "\n",
    "expr_list = []\n",
    "idx = 0\n",
    "for n_op in range(max_op+1):\n",
    "    n_samples = 2**n_op * n_per_level\n",
    "    for _ in trange(n_samples):\n",
    "        expr = generate_expression(n_op)\n",
    "        head = parse_expr(expr)\n",
    "        res = eval_expr(expr, head)\n",
    "        if res is None:\n",
    "            print(expr)\n",
    "            continue\n",
    "        img_paths = generate_img_paths(expr, sym_set=sym_set, render_img=True)\n",
    "        sample = {'id': '%s_%08d'%(split, idx), 'img_paths':img_paths, \n",
    "                  'expr': expr, 'head': head, 'res': res}\n",
    "        idx += 1\n",
    "        expr_list.append(sample)\n",
    "print(len(expr_list))\n",
    "\n",
    "expr_train_set = expr_list\n",
    "\n",
    "\n",
    "# generate val set\n",
    "max_op = 3\n",
    "n_per_level = 100\n",
    "sym_set = sym_val_set\n",
    "split = 'val'\n",
    "\n",
    "expr_list = []\n",
    "idx = 0\n",
    "for n_op in range(max_op+1):\n",
    "    n_samples = 2**n_op * n_per_level\n",
    "    for _ in trange(n_samples):\n",
    "        expr = generate_expression(n_op)\n",
    "        head = parse_expr(expr)\n",
    "        res = eval_expr(expr, head)\n",
    "        if res is None:\n",
    "            print(expr)\n",
    "            continue\n",
    "        img_paths = generate_img_paths(expr, sym_set=sym_set, render_img=True)\n",
    "        sample = {'id': '%s_%08d'%(split, idx), 'img_paths':img_paths, \n",
    "                  'expr': expr, 'head': head, 'res': res}\n",
    "        idx += 1\n",
    "        expr_list.append(sample)\n",
    "print(len(expr_list))\n",
    "expr_val_set = expr_list\n",
    "\n",
    "# generate test set\n",
    "max_op = 9\n",
    "n_per_level = 10000\n",
    "sym_set = sym_test_set\n",
    "split = 'test'\n",
    "\n",
    "expr_list = []\n",
    "idx = 0\n",
    "for n_op in range(max_op+1):\n",
    "    n_samples = n_per_level\n",
    "    for _ in trange(n_samples):\n",
    "        expr = generate_expression(n_op)\n",
    "        head = parse_expr(expr)\n",
    "        res = eval_expr(expr, head)\n",
    "        if res is None:\n",
    "            print(expr)\n",
    "            continue\n",
    "        img_paths = generate_img_paths(expr, sym_set=sym_set, render_img=True)\n",
    "        sample = {'id': '%s_%08d'%(split, idx), 'img_paths':img_paths, \n",
    "                  'expr': expr, 'head': head, 'res': res}\n",
    "        idx += 1\n",
    "        expr_list.append(sample)\n",
    "print(len(expr_list))\n",
    "expr_test_set = expr_list"
   ]
  },
  {
   "cell_type": "code",
   "execution_count": 7,
   "metadata": {},
   "outputs": [],
   "source": [
    "json.dump(expr_train_set, open('expr_train.json', 'w'))\n",
    "json.dump(expr_val_set, open('expr_val.json', 'w'))\n",
    "json.dump(expr_test_set, open('expr_test.json', 'w'))"
   ]
  },
  {
   "cell_type": "code",
   "execution_count": 14,
   "metadata": {},
   "outputs": [
    {
     "name": "stdout",
     "output_type": "stream",
     "text": [
      "15000 100000\n",
      "8/2/5+2 [1, 3, 1, 5, 3, -1, 5] 2\n"
     ]
    },
    {
     "data": {
      "image/png": "[encoded data removed]",
      "text/plain": [
       "<PIL.Image.Image image mode=RGB size=315x45 at 0x7F079C9A8DD8>"
      ]
     },
     "metadata": {},
     "output_type": "display_data"
    },
    {
     "name": "stdout",
     "output_type": "stream",
     "text": [
      "9-0!*4 [1, -1, 3, 4, 1, 4] 5\n"
     ]
    },
    {
     "data": {
      "image/png": "[encoded data removed]",
      "text/plain": [
       "<PIL.Image.Image image mode=RGB size=270x45 at 0x7F07B6194F60>"
      ]
     },
     "metadata": {},
     "output_type": "display_data"
    },
    {
     "name": "stdout",
     "output_type": "stream",
     "text": [
      "0 [-1] 0\n"
     ]
    },
    {
     "data": {
      "image/png": "[encoded data removed]",
      "text/plain": [
       "<PIL.Image.Image image mode=RGB size=45x45 at 0x7F079C9A8FD0>"
      ]
     },
     "metadata": {},
     "output_type": "display_data"
    },
    {
     "name": "stdout",
     "output_type": "stream",
     "text": [
      "3-7+0-7 [1, 3, 1, 5, 3, -1, 5] 0\n"
     ]
    },
    {
     "data": {
      "image/png": "[encoded data removed]",
      "text/plain": [
       "<PIL.Image.Image image mode=RGB size=315x45 at 0x7F07B6194780>"
      ]
     },
     "metadata": {},
     "output_type": "display_data"
    },
    {
     "name": "stdout",
     "output_type": "stream",
     "text": [
      "5+0 [1, -1, 1] 5\n"
     ]
    },
    {
     "data": {
      "image/png": "[encoded data removed]",
      "text/plain": [
       "<PIL.Image.Image image mode=RGB size=135x45 at 0x7F079C9A8DA0>"
      ]
     },
     "metadata": {},
     "output_type": "display_data"
    },
    {
     "name": "stdout",
     "output_type": "stream",
     "text": [
      "3!*9! [1, 2, -1, 4, 2] 2177280\n"
     ]
    },
    {
     "data": {
      "image/png": "[encoded data removed]",
      "text/plain": [
       "<PIL.Image.Image image mode=RGB size=225x45 at 0x7F07B6194F60>"
      ]
     },
     "metadata": {},
     "output_type": "display_data"
    },
    {
     "name": "stdout",
     "output_type": "stream",
     "text": [
      "5/1-5 [1, 3, 1, -1, 3] 0\n"
     ]
    },
    {
     "data": {
      "image/png": "[encoded data removed]",
      "text/plain": [
       "<PIL.Image.Image image mode=RGB size=225x45 at 0x7F079C9A8D30>"
      ]
     },
     "metadata": {},
     "output_type": "display_data"
    },
    {
     "name": "stdout",
     "output_type": "stream",
     "text": [
      "9+4*8-8 [1, 5, 3, 1, 3, -1, 5] 33\n"
     ]
    },
    {
     "data": {
      "image/png": "[encoded data removed]",
      "text/plain": [
       "<PIL.Image.Image image mode=RGB size=315x45 at 0x7F079C9A8D68>"
      ]
     },
     "metadata": {},
     "output_type": "display_data"
    },
    {
     "name": "stdout",
     "output_type": "stream",
     "text": [
      "3+1+2 [1, 3, 1, -1, 3] 6\n"
     ]
    },
    {
     "data": {
      "image/png": "[encoded data removed]",
      "text/plain": [
       "<PIL.Image.Image image mode=RGB size=225x45 at 0x7F079C9A8FD0>"
      ]
     },
     "metadata": {},
     "output_type": "display_data"
    },
    {
     "name": "stdout",
     "output_type": "stream",
     "text": [
      "0!+6! [1, 2, -1, 4, 2] 721\n"
     ]
    },
    {
     "data": {
      "image/png": "[encoded data removed]",
      "text/plain": [
       "<PIL.Image.Image image mode=RGB size=225x45 at 0x7F079C9A8F60>"
      ]
     },
     "metadata": {},
     "output_type": "display_data"
    },
    {
     "name": "stdout",
     "output_type": "stream",
     "text": [
      "7*4/5 [1, 3, 1, -1, 3] 5\n"
     ]
    },
    {
     "data": {
      "image/png": "[encoded data removed]",
      "text/plain": [
       "<PIL.Image.Image image mode=RGB size=225x45 at 0x7F079C9A8DD8>"
      ]
     },
     "metadata": {},
     "output_type": "display_data"
    }
   ],
   "source": [
    "# Visualize data\n",
    "print(len(expr_train_set), len(expr_test_set))\n",
    "for _ in range(5):\n",
    "    sample = random.choice(expr_train_set)\n",
    "    img_paths = sample['img_paths']\n",
    "    img = render_img(img_paths)\n",
    "    print(\"\".join(sample['expr']), sample['head'], sample['res'])\n",
    "    display(img)\n",
    "\n",
    "    sample = random.choice(expr_val_set)\n",
    "    img_paths = sample['img_paths']\n",
    "    img = render_img(img_paths)\n",
    "    print(\"\".join(sample['expr']), sample['head'], sample['res'])\n",
    "    display(img)\n",
    "\n",
    "sample = random.choice(expr_test_set)\n",
    "img_paths = sample['img_paths']\n",
    "img = render_img(img_paths)\n",
    "print(\"\".join(sample['expr']), sample['head'], sample['res'])\n",
    "display(img)"
   ]
  },
  {
   "cell_type": "code",
   "execution_count": 9,
   "metadata": {},
   "outputs": [
    {
     "name": "stdout",
     "output_type": "stream",
     "text": [
      "131681894400\n",
      "4838400\n",
      "95569451679744000\n"
     ]
    }
   ],
   "source": [
    "import numpy as np\n",
    "print(np.max([x['res'] for x in expr_train_set]))\n",
    "print(np.max([x['res'] for x in expr_val_set]))\n",
    "print(np.max([x['res'] for x in expr_test_set]))"
   ]
  },
  {
   "cell_type": "code",
   "execution_count": 10,
   "metadata": {},
   "outputs": [
    {
     "data": {
      "text/plain": [
       "{'id': 'test_00099000',\n",
       " 'img_paths': ['4/exp39457.jpg',\n",
       "  '+/exp60361.jpg',\n",
       "  '5/exp44075.jpg',\n",
       "  'div/exp50433.jpg',\n",
       "  '2/exp12755.jpg',\n",
       "  '+/+_98971.jpg',\n",
       "  '5/exp78147.jpg',\n",
       "  'div/exp2033.jpg',\n",
       "  '1/exp19242.jpg',\n",
       "  '+/exp12118.jpg',\n",
       "  '2/exp94900.jpg',\n",
       "  'div/exp50883.jpg',\n",
       "  '8/exp25190.jpg',\n",
       "  '+/exp96214.jpg',\n",
       "  '0/0_4243.jpg',\n",
       "  'times/exp44089.jpg',\n",
       "  '3/3_80449.jpg',\n",
       "  '!/exp20297.jpg'],\n",
       " 'expr': ['4',\n",
       "  '+',\n",
       "  '5',\n",
       "  '/',\n",
       "  '2',\n",
       "  '+',\n",
       "  '5',\n",
       "  '/',\n",
       "  '1',\n",
       "  '+',\n",
       "  '2',\n",
       "  '/',\n",
       "  '8',\n",
       "  '+',\n",
       "  '0',\n",
       "  '*',\n",
       "  '3',\n",
       "  '!'],\n",
       " 'head': [1, 5, 3, 1, 3, 9, 7, 5, 7, 13, 11, 9, 11, -1, 15, 13, 17, 15],\n",
       " 'res': 11}"
      ]
     },
     "execution_count": 10,
     "metadata": {},
     "output_type": "execute_result"
    }
   ],
   "source": [
    "expr_test_set[-1000]"
   ]
  },
  {
   "cell_type": "code",
   "execution_count": 11,
   "metadata": {},
   "outputs": [
    {
     "name": "stdout",
     "output_type": "stream",
     "text": [
      "(45, 45)\n"
     ]
    },
    {
     "data": {
      "image/png": "[encoded data removed]",
      "text/plain": [
       "<PIL.JpegImagePlugin.JpegImageFile image mode=L size=45x45 at 0x7F07B6194128>"
      ]
     },
     "metadata": {},
     "output_type": "display_data"
    }
   ],
   "source": [
    "img = Image.open(symbol_images_dir + '2/2_849.jpg')\n",
    "print(img.size)\n",
    "display(img)"
   ]
  },
  {
   "cell_type": "code",
   "execution_count": 12,
   "metadata": {},
   "outputs": [
    {
     "data": {
      "image/png": "[encoded data removed]",
      "text/plain": [
       "<PIL.Image.Image image mode=L size=45x45 at 0x7F07B6194550>"
      ]
     },
     "execution_count": 12,
     "metadata": {},
     "output_type": "execute_result"
    }
   ],
   "source": [
    "img.convert('L')"
   ]
  },
  {
   "cell_type": "code",
   "execution_count": 13,
   "metadata": {},
   "outputs": [
    {
     "name": "stdout",
     "output_type": "stream",
     "text": [
      "7/1/7-2 = -1.0\n"
     ]
    },
    {
     "data": {
      "image/png": "[encoded data removed]",
      "text/plain": [
       "<PIL.Image.Image image mode=RGB size=315x45 at 0x7F07B6194780>"
      ]
     },
     "metadata": {},
     "output_type": "display_data"
    }
   ],
   "source": [
    "expr = '7/1/7-2'\n",
    "img_paths = generate_img_paths(expr, sym_set=sym_set, render_img=True)\n",
    "img = render_img(img_paths)\n",
    "print(expr,'=', eval(expr))\n",
    "display(img)"
   ]
  }
 ],
 "metadata": {
  "kernelspec": {
   "display_name": "Python 3",
   "language": "python",
   "name": "python3"
  },
  "language_info": {
   "codemirror_mode": {
    "name": "ipython",
    "version": 3
   },
   "file_extension": ".py",
   "mimetype": "text/x-python",
   "name": "python",
   "nbconvert_exporter": "python",
   "pygments_lexer": "ipython3",
   "version": "3.6.9"
  }
 },
 "nbformat": 4,
 "nbformat_minor": 2
}
